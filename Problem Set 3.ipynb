{
 "cells": [
  {
   "cell_type": "markdown",
   "id": "3746de02",
   "metadata": {},
   "source": [
    "<h1><font color='#004b87'>Question 1</font></h1>\n",
    "<h3>Occupations</h3>\n",
    "<p>Step 1. Import the necessary libraries</p>\n",
    "<p>Step 2. Import the dataset from this address.</p>\n",
    "<p>Step 3. Assign it to a variable called users</p>\n",
    "<p>Step 4. Discover what is the mean age per occupation</p>\n",
    "<p>Step 5. Discover the Male ratio per occupation and sort it from the most to the least</p>\n",
    "<p>Step 6. For each occupation, calculate the minimum and maximum ages</p>\n",
    "<p>Step 7. For each combination of occupation and sex, calculate the mean age</p>\n",
    "<p>Step 8. For each occupation present the percentage of women and men</p>"
   ]
  },
  {
   "cell_type": "code",
   "execution_count": 1,
   "id": "cb293720",
   "metadata": {},
   "outputs": [],
   "source": [
    "import pandas as pd"
   ]
  },
  {
   "cell_type": "code",
   "execution_count": 2,
   "id": "e141ae74",
   "metadata": {},
   "outputs": [],
   "source": [
    "url = 'https://raw.githubusercontent.com/justmarkham/DAT8/master/data/u.user'\n",
    "users = pd.read_csv(url, sep='|')"
   ]
  },
  {
   "cell_type": "code",
   "execution_count": 3,
   "id": "82bfb27c",
   "metadata": {},
   "outputs": [
    {
     "name": "stdout",
     "output_type": "stream",
     "text": [
      "Mean Age Per Occupation:\n",
      "\n",
      "                Mean Age\n",
      "occupation              \n",
      "administrator  38.746835\n",
      "artist         31.392857\n",
      "doctor         43.571429\n",
      "educator       42.010526\n",
      "engineer       36.388060\n",
      "entertainment  29.222222\n",
      "executive      38.718750\n",
      "healthcare     41.562500\n",
      "homemaker      32.571429\n",
      "lawyer         36.750000\n",
      "librarian      40.000000\n",
      "marketing      37.615385\n",
      "none           26.555556\n",
      "other          34.523810\n",
      "programmer     33.121212\n",
      "retired        63.071429\n",
      "salesman       35.666667\n",
      "scientist      35.548387\n",
      "student        22.081633\n",
      "technician     33.148148\n",
      "writer         36.311111\n"
     ]
    }
   ],
   "source": [
    "mean_age_per_occupation = users.groupby('occupation').age.mean().rename('Mean Age')\n",
    "print(\"Mean Age Per Occupation:\\n\")\n",
    "print(mean_age_per_occupation.to_frame())"
   ]
  },
  {
   "cell_type": "code",
   "execution_count": 4,
   "id": "582deb2d",
   "metadata": {},
   "outputs": [
    {
     "name": "stdout",
     "output_type": "stream",
     "text": [
      "Male Ratio Per Occupation (sorted):\n",
      "\n",
      "               Male Ratio\n",
      "occupation               \n",
      "doctor           1.000000\n",
      "engineer         0.970149\n",
      "technician       0.962963\n",
      "retired          0.928571\n",
      "programmer       0.909091\n",
      "executive        0.906250\n",
      "scientist        0.903226\n",
      "entertainment    0.888889\n",
      "lawyer           0.833333\n",
      "salesman         0.750000\n",
      "educator         0.726316\n",
      "student          0.693878\n",
      "other            0.657143\n",
      "marketing        0.615385\n",
      "writer           0.577778\n",
      "none             0.555556\n",
      "administrator    0.544304\n",
      "artist           0.535714\n",
      "librarian        0.431373\n",
      "healthcare       0.312500\n",
      "homemaker        0.142857\n"
     ]
    }
   ],
   "source": [
    "users['is_male'] = users.gender.apply(lambda x: 1 if x == 'M' else 0)\n",
    "male_ratio_per_occupation = users.groupby('occupation').is_male.mean().sort_values(ascending=False)\n",
    "print(\"Male Ratio Per Occupation (sorted):\\n\")\n",
    "print(male_ratio_per_occupation.to_frame('Male Ratio'))"
   ]
  },
  {
   "cell_type": "code",
   "execution_count": 5,
   "id": "c7b96eb6",
   "metadata": {},
   "outputs": [
    {
     "name": "stdout",
     "output_type": "stream",
     "text": [
      "Min and Max Age Per Occupation:\n",
      "\n",
      "               min  max\n",
      "occupation             \n",
      "administrator   21   70\n",
      "artist          19   48\n",
      "doctor          28   64\n",
      "educator        23   63\n",
      "engineer        22   70\n",
      "entertainment   15   50\n",
      "executive       22   69\n",
      "healthcare      22   62\n",
      "homemaker       20   50\n",
      "lawyer          21   53\n",
      "librarian       23   69\n",
      "marketing       24   55\n",
      "none            11   55\n",
      "other           13   64\n",
      "programmer      20   63\n",
      "retired         51   73\n",
      "salesman        18   66\n",
      "scientist       23   55\n",
      "student          7   42\n",
      "technician      21   55\n",
      "writer          18   60\n"
     ]
    }
   ],
   "source": [
    "min_max_age_per_occupation = users.groupby('occupation').age.agg(['min', 'max'])\n",
    "print(\"Min and Max Age Per Occupation:\\n\")\n",
    "print(min_max_age_per_occupation)"
   ]
  },
  {
   "cell_type": "code",
   "execution_count": 6,
   "id": "a55d4dfc",
   "metadata": {},
   "outputs": [
    {
     "name": "stdout",
     "output_type": "stream",
     "text": [
      "Mean Age Per Occupation and Sex:\n",
      "\n",
      "                       Mean Age\n",
      "occupation    gender           \n",
      "administrator F       40.638889\n",
      "              M       37.162791\n",
      "artist        F       30.307692\n",
      "              M       32.333333\n",
      "doctor        M       43.571429\n",
      "educator      F       39.115385\n",
      "              M       43.101449\n",
      "engineer      F       29.500000\n",
      "              M       36.600000\n",
      "entertainment F       31.000000\n",
      "              M       29.000000\n",
      "executive     F       44.000000\n",
      "              M       38.172414\n",
      "healthcare    F       39.818182\n",
      "              M       45.400000\n",
      "homemaker     F       34.166667\n",
      "              M       23.000000\n",
      "lawyer        F       39.500000\n",
      "              M       36.200000\n",
      "librarian     F       40.000000\n",
      "              M       40.000000\n",
      "marketing     F       37.200000\n",
      "              M       37.875000\n",
      "none          F       36.500000\n",
      "              M       18.600000\n",
      "other         F       35.472222\n",
      "              M       34.028986\n",
      "programmer    F       32.166667\n",
      "              M       33.216667\n",
      "retired       F       70.000000\n",
      "              M       62.538462\n",
      "salesman      F       27.000000\n",
      "              M       38.555556\n",
      "scientist     F       28.333333\n",
      "              M       36.321429\n",
      "student       F       20.750000\n",
      "              M       22.669118\n",
      "technician    F       38.000000\n",
      "              M       32.961538\n",
      "writer        F       37.631579\n",
      "              M       35.346154\n"
     ]
    }
   ],
   "source": [
    "mean_age_per_occupation_and_sex = users.groupby(['occupation', 'gender']).age.mean().rename('Mean Age')\n",
    "print(\"Mean Age Per Occupation and Sex:\\n\")\n",
    "print(mean_age_per_occupation_and_sex.to_frame())"
   ]
  },
  {
   "cell_type": "code",
   "execution_count": 7,
   "id": "db1e5aa0",
   "metadata": {},
   "outputs": [
    {
     "name": "stdout",
     "output_type": "stream",
     "text": [
      "Percentage of Women and Men Per Occupation:\n",
      "\n",
      "gender                 F           M\n",
      "occupation                          \n",
      "administrator  45.569620   54.430380\n",
      "artist         46.428571   53.571429\n",
      "doctor          0.000000  100.000000\n",
      "educator       27.368421   72.631579\n",
      "engineer        2.985075   97.014925\n",
      "entertainment  11.111111   88.888889\n",
      "executive       9.375000   90.625000\n",
      "healthcare     68.750000   31.250000\n",
      "homemaker      85.714286   14.285714\n",
      "lawyer         16.666667   83.333333\n",
      "librarian      56.862745   43.137255\n",
      "marketing      38.461538   61.538462\n",
      "none           44.444444   55.555556\n",
      "other          34.285714   65.714286\n",
      "programmer      9.090909   90.909091\n",
      "retired         7.142857   92.857143\n",
      "salesman       25.000000   75.000000\n",
      "scientist       9.677419   90.322581\n",
      "student        30.612245   69.387755\n",
      "technician      3.703704   96.296296\n",
      "writer         42.222222   57.777778\n"
     ]
    }
   ],
   "source": [
    "gender_counts_per_occupation = users.groupby(['occupation', 'gender']).size().unstack().fillna(0)\n",
    "gender_percentage_per_occupation = gender_counts_per_occupation.div(gender_counts_per_occupation.sum(axis=1), axis=0) * 100\n",
    "\n",
    "print(\"Percentage of Women and Men Per Occupation:\\n\")\n",
    "print(gender_percentage_per_occupation)"
   ]
  },
  {
   "cell_type": "markdown",
   "id": "768195b5",
   "metadata": {},
   "source": [
    "<h1><font color='#004b87'>Question 2</font></h1>\n",
    "<h3>Euro Teams</h3>\n",
    "<p>Step 1. Import the necessary libraries</p>\n",
    "<p>Step 2. Import the dataset from this address</p>\n",
    "<p>Step 3. Assign it to a variable called euro12</p>\n",
    "<p>Step 4. Select only the Goal column</p>\n",
    "<p>Step 5. How many team participated in the Euro2012?</p>\n",
    "<p>Step 6. What is the number of columns in the dataset?</p>\n",
    "<p>Step 7. View only the columns Team, Yellow Cards and Red Cards and assign them to a dataframe called discipline</p>\n",
    "<p>Step 8. Sort the teams by Red Cards, then to Yellow Cards</p>\n",
    "<p>Step 9. Calculate the mean Yellow Cards given per Team</p>\n",
    "<p>Step 10. Filter teams that scored more than 6 goals</p>\n",
    "<p>Step 11. Select the teams that start with G</p>\n",
    "<p>Step 12. Select the first 7 columns</p>\n",
    "<p>Step 13. Select all columns except the last 3</p>\n",
    "<p>Step 14. Present only the Shooting Accuracy from England, Italy and Russia</p>"
   ]
  },
  {
   "cell_type": "code",
   "execution_count": 8,
   "id": "e2e9e4a6",
   "metadata": {},
   "outputs": [],
   "source": [
    "url = \"https://raw.githubusercontent.com/guipsamora/pandas_exercises/master/02_Filtering_%26_Sorting/Euro12/Euro_2012_stats_TEAM.csv\"\n",
    "euro12 = pd.read_csv(url)\n",
    "goals = euro12['Goals']"
   ]
  },
  {
   "cell_type": "code",
   "execution_count": 9,
   "id": "182f9400",
   "metadata": {},
   "outputs": [
    {
     "name": "stdout",
     "output_type": "stream",
     "text": [
      "Number of team participated in the Euro2012: 16\n"
     ]
    }
   ],
   "source": [
    "num_teams = euro12['Team'].nunique()\n",
    "print(\"Number of team participated in the Euro2012:\", num_teams)"
   ]
  },
  {
   "cell_type": "code",
   "execution_count": 10,
   "id": "ea960788",
   "metadata": {},
   "outputs": [
    {
     "name": "stdout",
     "output_type": "stream",
     "text": [
      "Number of columns in the dataset: 35\n"
     ]
    }
   ],
   "source": [
    "num_columns = euro12.shape[1]\n",
    "print(\"Number of columns in the dataset:\", num_columns)"
   ]
  },
  {
   "cell_type": "code",
   "execution_count": 11,
   "id": "993d42ee",
   "metadata": {},
   "outputs": [
    {
     "name": "stdout",
     "output_type": "stream",
     "text": [
      "                   Team  Yellow Cards  Red Cards\n",
      "0               Croatia             9          0\n",
      "1        Czech Republic             7          0\n",
      "2               Denmark             4          0\n",
      "3               England             5          0\n",
      "4                France             6          0\n",
      "5               Germany             4          0\n",
      "6                Greece             9          1\n",
      "7                 Italy            16          0\n",
      "8           Netherlands             5          0\n",
      "9                Poland             7          1\n",
      "10             Portugal            12          0\n",
      "11  Republic of Ireland             6          1\n",
      "12               Russia             6          0\n",
      "13                Spain            11          0\n",
      "14               Sweden             7          0\n",
      "15              Ukraine             5          0\n"
     ]
    }
   ],
   "source": [
    "discipline = euro12[['Team', 'Yellow Cards', 'Red Cards']]\n",
    "print(discipline)"
   ]
  },
  {
   "cell_type": "code",
   "execution_count": 12,
   "id": "1a9b6e40",
   "metadata": {},
   "outputs": [
    {
     "name": "stdout",
     "output_type": "stream",
     "text": [
      "                   Team  Yellow Cards  Red Cards\n",
      "6                Greece             9          1\n",
      "9                Poland             7          1\n",
      "11  Republic of Ireland             6          1\n",
      "7                 Italy            16          0\n",
      "10             Portugal            12          0\n",
      "13                Spain            11          0\n",
      "0               Croatia             9          0\n",
      "1        Czech Republic             7          0\n",
      "14               Sweden             7          0\n",
      "4                France             6          0\n",
      "12               Russia             6          0\n",
      "3               England             5          0\n",
      "8           Netherlands             5          0\n",
      "15              Ukraine             5          0\n",
      "2               Denmark             4          0\n",
      "5               Germany             4          0\n"
     ]
    }
   ],
   "source": [
    "discipline_sorted = discipline.sort_values(by=['Red Cards', 'Yellow Cards'], ascending=False)\n",
    "print(discipline_sorted)"
   ]
  },
  {
   "cell_type": "code",
   "execution_count": 13,
   "id": "67bfbbd1",
   "metadata": {},
   "outputs": [
    {
     "name": "stdout",
     "output_type": "stream",
     "text": [
      "Mean Yellow Cards given per Team: 7.4375\n"
     ]
    }
   ],
   "source": [
    "mean_yellow_cards = discipline['Yellow Cards'].mean()\n",
    "print(\"Mean Yellow Cards given per Team:\", mean_yellow_cards)"
   ]
  },
  {
   "cell_type": "code",
   "execution_count": 14,
   "id": "a582d075",
   "metadata": {},
   "outputs": [
    {
     "name": "stdout",
     "output_type": "stream",
     "text": [
      "Teams that scored more than 6 goals:\n",
      " Germany\n",
      "  Spain\n"
     ]
    }
   ],
   "source": [
    "teams_more_than_6_goals = euro12[euro12['Goals'] > 6]\n",
    "print(\"Teams that scored more than 6 goals:\\n\", teams_more_than_6_goals['Team'].to_string(index=False))"
   ]
  },
  {
   "cell_type": "code",
   "execution_count": 15,
   "id": "34cc6a04",
   "metadata": {},
   "outputs": [
    {
     "name": "stdout",
     "output_type": "stream",
     "text": [
      "Teams that start with G:\n",
      " Germany\n",
      " Greece\n"
     ]
    }
   ],
   "source": [
    "teams_start_with_g = euro12[euro12['Team'].str.startswith('G')]\n",
    "print(\"Teams that start with G:\\n\", teams_start_with_g['Team'].to_string(index=False))"
   ]
  },
  {
   "cell_type": "code",
   "execution_count": 16,
   "id": "6f886fec",
   "metadata": {},
   "outputs": [
    {
     "name": "stdout",
     "output_type": "stream",
     "text": [
      "First 7 columns:\n",
      "                Team Goals Shots on target Shots off target Shooting Accuracy % Goals-to-shots Total shots (inc. Blocked)\n",
      "            Croatia     4              13               12             51.9%            16.0%                         32\n",
      "     Czech Republic     4              13               18             41.9%            12.9%                         39\n",
      "            Denmark     4              10               10             50.0%            20.0%                         27\n",
      "            England     5              11               18             50.0%            17.2%                         40\n",
      "             France     3              22               24             37.9%             6.5%                         65\n",
      "            Germany    10              32               32             47.8%            15.6%                         80\n",
      "             Greece     5               8               18             30.7%            19.2%                         32\n",
      "              Italy     6              34               45             43.0%             7.5%                        110\n",
      "        Netherlands     2              12               36             25.0%             4.1%                         60\n",
      "             Poland     2              15               23             39.4%             5.2%                         48\n",
      "           Portugal     6              22               42             34.3%             9.3%                         82\n",
      "Republic of Ireland     1               7               12             36.8%             5.2%                         28\n",
      "             Russia     5               9               31             22.5%            12.5%                         59\n",
      "              Spain    12              42               33             55.9%            16.0%                        100\n",
      "             Sweden     5              17               19             47.2%            13.8%                         39\n",
      "            Ukraine     2               7               26             21.2%             6.0%                         38\n"
     ]
    }
   ],
   "source": [
    "#Referred: https://www.geeksforgeeks.org/how-to-get-first-column-of-pandas-dataframe/\n",
    "first_7_columns = euro12.T.head(7).T\n",
    "print(\"First 7 columns:\\n\", first_7_columns.to_string(index=False))"
   ]
  },
  {
   "cell_type": "code",
   "execution_count": 17,
   "id": "774cfe68",
   "metadata": {},
   "outputs": [
    {
     "name": "stdout",
     "output_type": "stream",
     "text": [
      "All columns except last 3:\n",
      "                Team  Goals  Shots on target  Shots off target Shooting Accuracy % Goals-to-shots  Total shots (inc. Blocked)  Hit Woodwork  Penalty goals  Penalties not scored  Headed goals  Passes  Passes completed Passing Accuracy  Touches  Crosses  Dribbles  Corners Taken  Tackles  Clearances  Interceptions  Clearances off line  Clean Sheets  Blocks  Goals conceded  Saves made Saves-to-shots ratio  Fouls Won  Fouls Conceded  Offsides  Yellow Cards  Red Cards\n",
      "            Croatia      4               13                12             51.9%            16.0%                          32             0              0                     0             2    1076               828            76.9%     1706       60        42             14       49          83             56                  NaN             0      10               3          13                81.3%         41              62         2             9          0\n",
      "     Czech Republic      4               13                18             41.9%            12.9%                          39             0              0                     0             0    1565              1223            78.1%     2358       46        68             21       62          98             37                  2.0             1      10               6           9                60.1%         53              73         8             7          0\n",
      "            Denmark      4               10                10             50.0%            20.0%                          27             1              0                     0             3    1298              1082            83.3%     1873       43        32             16       40          61             59                  0.0             1      10               5          10                66.7%         25              38         8             4          0\n",
      "            England      5               11                18             50.0%            17.2%                          40             0              0                     0             3    1488              1200            80.6%     2440       58        60             16       86         106             72                  1.0             2      29               3          22                88.1%         43              45         6             5          0\n",
      "             France      3               22                24             37.9%             6.5%                          65             1              0                     0             0    2066              1803            87.2%     2909       55        76             28       71          76             58                  0.0             1       7               5           6                54.6%         36              51         5             6          0\n",
      "            Germany     10               32                32             47.8%            15.6%                          80             2              1                     0             2    2774              2427            87.4%     3761      101        60             35       91          73             69                  0.0             1      11               6          10                62.6%         63              49        12             4          0\n",
      "             Greece      5                8                18             30.7%            19.2%                          32             1              1                     1             0    1187               911            76.7%     2016       52        53             10       65         123             87                  0.0             1      23               7          13                65.1%         67              48        12             9          1\n",
      "              Italy      6               34                45             43.0%             7.5%                         110             2              0                     0             2    3016              2531            83.9%     4363       75        75             30       98         137            136                  1.0             2      18               7          20                74.1%        101              89        16            16          0\n",
      "        Netherlands      2               12                36             25.0%             4.1%                          60             2              0                     0             0    1556              1381            88.7%     2163       50        49             22       34          41             41                  0.0             0       9               5          12                70.6%         35              30         3             5          0\n",
      "             Poland      2               15                23             39.4%             5.2%                          48             0              0                     0             1    1059               852            80.4%     1724       55        39             14       67          87             62                  0.0             0       8               3           6                66.7%         48              56         3             7          1\n",
      "           Portugal      6               22                42             34.3%             9.3%                          82             6              0                     0             2    1891              1461            77.2%     2958       91        64             41       78          92             86                  0.0             2      11               4          10                71.5%         73              90        10            12          0\n",
      "Republic of Ireland      1                7                12             36.8%             5.2%                          28             0              0                     0             1     851               606            71.2%     1433       43        18              8       45          78             43                  1.0             0      23               9          17                65.4%         43              51        11             6          1\n",
      "             Russia      5                9                31             22.5%            12.5%                          59             2              0                     0             1    1602              1345            83.9%     2278       40        40             21       65          74             58                  0.0             0       8               3          10                77.0%         34              43         4             6          0\n",
      "              Spain     12               42                33             55.9%            16.0%                         100             0              1                     0             2    4317              3820            88.4%     5585       69       106             44      122         102             79                  0.0             5       8               1          15                93.8%        102              83        19            11          0\n",
      "             Sweden      5               17                19             47.2%            13.8%                          39             3              0                     0             1    1192               965            80.9%     1806       44        29              7       56          54             45                  0.0             1      12               5           8                61.6%         35              51         7             7          0\n",
      "            Ukraine      2                7                26             21.2%             6.0%                          38             0              0                     0             2    1276              1043            81.7%     1894       33        26             18       65          97             29                  0.0             0       4               4          13                76.5%         48              31         4             5          0\n"
     ]
    }
   ],
   "source": [
    "all_but_last_3_columns = euro12.iloc[:,:-3]\n",
    "print(\"All columns except last 3:\\n\", all_but_last_3_columns.to_string(index=False))"
   ]
  },
  {
   "cell_type": "code",
   "execution_count": 18,
   "id": "001c3376",
   "metadata": {},
   "outputs": [
    {
     "name": "stdout",
     "output_type": "stream",
     "text": [
      "Shooting Accuracy from England, Italy and Russia:\n",
      "    Team Shooting Accuracy\n",
      "England             50.0%\n",
      "  Italy             43.0%\n",
      " Russia             22.5%\n"
     ]
    }
   ],
   "source": [
    "shooting_accuracy = euro12.loc[euro12['Team'].isin(['England', 'Italy', 'Russia']), ['Team', 'Shooting Accuracy']]\n",
    "print(\"Shooting Accuracy from England, Italy and Russia:\\n\", shooting_accuracy.to_string(index=False))"
   ]
  },
  {
   "cell_type": "markdown",
   "id": "3d021e45",
   "metadata": {},
   "source": [
    "<h1><font color='#004b87'>Question 3</font></h1>\n",
    "<h3>Housing</h3>\n",
    "<p>Step 1. Import the necessary libraries</p>\n",
    "<p>Step 2. Create 3 differents Series, each of length 100, as follows:</p>\n",
    "<ul>\n",
    "  <li>The first a random number from 1 to 4</li>\n",
    "  <li>The second a random number from 1 to 3</li>\n",
    "  <li>The third a random number from 10,000 to 30,000</li>\n",
    "</ul>\n",
    "<p>Step 3. Create a DataFrame by joining the Series by column</p>\n",
    "<p>Step 4. Change the name of the columns to bedrs, bathrs, price_sqr_meter</p>\n",
    "<p>Step 5. Create a one column DataFrame with the values of the 3 Series and assign it to 'bigcolumn'</p>\n",
    "<p>Step 6. Ops it seems it is going only until index 99. Is it true?</p>\n",
    "<p>Step 7. Reindex the DataFrame so it goes from 0 to 299</p>"
   ]
  },
  {
   "cell_type": "code",
   "execution_count": 19,
   "id": "448c8af2",
   "metadata": {},
   "outputs": [],
   "source": [
    "import numpy as np"
   ]
  },
  {
   "cell_type": "code",
   "execution_count": 20,
   "id": "50a4066b",
   "metadata": {},
   "outputs": [
    {
     "name": "stdout",
     "output_type": "stream",
     "text": [
      "     bigcolumn\n",
      "0            3\n",
      "1            1\n",
      "2        23209\n",
      "3            4\n",
      "4            2\n",
      "..         ...\n",
      "295          3\n",
      "296      14885\n",
      "297          1\n",
      "298          3\n",
      "299      18757\n",
      "\n",
      "[300 rows x 1 columns]\n"
     ]
    }
   ],
   "source": [
    "s1 = pd.Series(np.random.randint(1, 5, 100))  # Random numbers from 1 to 4\n",
    "s2 = pd.Series(np.random.randint(1, 4, 100))  # Random numbers from 1 to 3\n",
    "s3 = pd.Series(np.random.randint(10000, 30001, 100))  # Random numbers from 10,000 to 30,000\n",
    "\n",
    "df = pd.DataFrame({'bedrs': s1, 'bathrs': s2, 'price_sqr_meter': s3})\n",
    "\n",
    "bigcolumn = pd.DataFrame(df.values.flatten(), columns=['bigcolumn'])\n",
    "\n",
    "print(bigcolumn)"
   ]
  },
  {
   "cell_type": "code",
   "execution_count": 21,
   "id": "87cbeea6",
   "metadata": {},
   "outputs": [
    {
     "name": "stdout",
     "output_type": "stream",
     "text": [
      "     bigcolumn\n",
      "0            3\n",
      "1            1\n",
      "2        23209\n",
      "3            4\n",
      "4            2\n",
      "..         ...\n",
      "295          3\n",
      "296      14885\n",
      "297          1\n",
      "298          3\n",
      "299      18757\n",
      "\n",
      "[300 rows x 1 columns]\n"
     ]
    }
   ],
   "source": [
    "bigcolumn.index = range(len(bigcolumn))\n",
    "print(bigcolumn)"
   ]
  },
  {
   "cell_type": "markdown",
   "id": "18023a02",
   "metadata": {},
   "source": [
    "<h1><font color='#004b87'>Question 4</font></h1>"
   ]
  },
  {
   "cell_type": "code",
   "execution_count": 22,
   "id": "b6681f66",
   "metadata": {},
   "outputs": [
    {
     "name": "stdout",
     "output_type": "stream",
     "text": [
      "   61  1  1.1  15.04  14.96  13.17   9.29    NaN  9.87  13.67  10.25  10.83  \\\n",
      "0  61  1    2  14.71    NaN  10.83   6.50  12.62  7.67  11.50  10.04   9.79   \n",
      "1  61  1    3  18.50  16.88  12.33  10.13  11.17  6.17  11.25    NaN   8.50   \n",
      "2  61  1    4  10.58   6.63  11.75   4.58   4.54  2.88   8.63   1.79   5.83   \n",
      "3  61  1    5  13.33  13.25  11.42   6.17  10.71  8.21  11.92   6.54  10.92   \n",
      "4  61  1    6  13.21   8.12   9.96   6.67   5.37  4.50  10.67   4.42   7.17   \n",
      "\n",
      "   12.58  18.50  15.04.1  \n",
      "0   9.67  17.54    13.83  \n",
      "1   7.67  12.75    12.71  \n",
      "2   5.88   5.46    10.88  \n",
      "3  10.34  12.92    11.83  \n",
      "4   7.50   8.12    13.17  \n"
     ]
    }
   ],
   "source": [
    "file_path = '.\\wind.txt'\n",
    "wind_data = pd.read_csv(file_path, delimiter='\\s+', skiprows=1)\n",
    "print(wind_data.head())"
   ]
  },
  {
   "cell_type": "code",
   "execution_count": 23,
   "id": "1925a1b9",
   "metadata": {},
   "outputs": [
    {
     "name": "stdout",
     "output_type": "stream",
     "text": [
      "              RPT    VAL    ROS    KIL    SHA   BIR    DUB    CLA    MUL  \\\n",
      "DateTime                                                                   \n",
      "2061-01-02  14.71    NaN  10.83   6.50  12.62  7.67  11.50  10.04   9.79   \n",
      "2061-01-03  18.50  16.88  12.33  10.13  11.17  6.17  11.25    NaN   8.50   \n",
      "2061-01-04  10.58   6.63  11.75   4.58   4.54  2.88   8.63   1.79   5.83   \n",
      "2061-01-05  13.33  13.25  11.42   6.17  10.71  8.21  11.92   6.54  10.92   \n",
      "2061-01-06  13.21   8.12   9.96   6.67   5.37  4.50  10.67   4.42   7.17   \n",
      "\n",
      "              CLO    BEL    MAL  \n",
      "DateTime                         \n",
      "2061-01-02   9.67  17.54  13.83  \n",
      "2061-01-03   7.67  12.75  12.71  \n",
      "2061-01-04   5.88   5.46  10.88  \n",
      "2061-01-05  10.34  12.92  11.83  \n",
      "2061-01-06   7.50   8.12  13.17  \n"
     ]
    }
   ],
   "source": [
    "# Assign column names\n",
    "column_names = [\"Yr\", \"Mo\", \"Dy\", \"RPT\", \"VAL\", \"ROS\", \"KIL\", \"SHA\", \"BIR\", \"DUB\", \"CLA\", \"MUL\", \"CLO\", \"BEL\", \"MAL\"]\n",
    "# Assign it to a variable called 'data'\n",
    "data = wind_data.copy()\n",
    "# Add column names\n",
    "data.columns = column_names\n",
    "# Combine the first three columns into a single datetime index\n",
    "date_columns = [\"Yr\", \"Mo\", \"Dy\"]\n",
    "data[\"DateTime\"] = pd.to_datetime(data[date_columns].astype(str).agg('-'.join, axis=1), format='%y-%m-%d')\n",
    "data = data.set_index('DateTime')\n",
    "data = data.drop(columns=date_columns)\n",
    "print(data.head())"
   ]
  },
  {
   "cell_type": "code",
   "execution_count": 24,
   "id": "9130445d",
   "metadata": {},
   "outputs": [
    {
     "name": "stdout",
     "output_type": "stream",
     "text": [
      "              RPT    VAL    ROS    KIL    SHA   BIR    DUB    CLA    MUL  \\\n",
      "DateTime                                                                   \n",
      "2061-01-02  14.71    NaN  10.83   6.50  12.62  7.67  11.50  10.04   9.79   \n",
      "2061-01-03  18.50  16.88  12.33  10.13  11.17  6.17  11.25    NaN   8.50   \n",
      "2061-01-04  10.58   6.63  11.75   4.58   4.54  2.88   8.63   1.79   5.83   \n",
      "2061-01-05  13.33  13.25  11.42   6.17  10.71  8.21  11.92   6.54  10.92   \n",
      "2061-01-06  13.21   8.12   9.96   6.67   5.37  4.50  10.67   4.42   7.17   \n",
      "\n",
      "              CLO    BEL    MAL  \n",
      "DateTime                         \n",
      "2061-01-02   9.67  17.54  13.83  \n",
      "2061-01-03   7.67  12.75  12.71  \n",
      "2061-01-04   5.88   5.46  10.88  \n",
      "2061-01-05  10.34  12.92  11.83  \n",
      "2061-01-06   7.50   8.12  13.17  \n"
     ]
    }
   ],
   "source": [
    "data = wind_data.copy() \n",
    "# Add column names\n",
    "data.columns = column_names\n",
    "date_columns = [\"Yr\", \"Mo\", \"Dy\"]\n",
    "data[\"DateTime\"] = pd.to_datetime(data[date_columns].astype(str).agg('-'.join, axis=1), format='%y-%m-%d')\n",
    "\n",
    "# Function to fix the year\n",
    "def fix_year(year):\n",
    "    if year >= 70:\n",
    "        return year + 1900\n",
    "    else:\n",
    "        return year + 2000\n",
    "data['Yr'] = data['Yr'].apply(fix_year)\n",
    "data = data.set_index('DateTime')\n",
    "data = data.drop(columns=date_columns)\n",
    "print(data.head())"
   ]
  },
  {
   "cell_type": "code",
   "execution_count": 25,
   "id": "9db572e2",
   "metadata": {},
   "outputs": [
    {
     "name": "stdout",
     "output_type": "stream",
     "text": [
      "              RPT    VAL    ROS    KIL    SHA   BIR    DUB    CLA    MUL  \\\n",
      "DateTime                                                                   \n",
      "2061-01-02  14.71    NaN  10.83   6.50  12.62  7.67  11.50  10.04   9.79   \n",
      "2061-01-03  18.50  16.88  12.33  10.13  11.17  6.17  11.25    NaN   8.50   \n",
      "2061-01-04  10.58   6.63  11.75   4.58   4.54  2.88   8.63   1.79   5.83   \n",
      "2061-01-05  13.33  13.25  11.42   6.17  10.71  8.21  11.92   6.54  10.92   \n",
      "2061-01-06  13.21   8.12   9.96   6.67   5.37  4.50  10.67   4.42   7.17   \n",
      "\n",
      "              CLO    BEL    MAL  \n",
      "DateTime                         \n",
      "2061-01-02   9.67  17.54  13.83  \n",
      "2061-01-03   7.67  12.75  12.71  \n",
      "2061-01-04   5.88   5.46  10.88  \n",
      "2061-01-05  10.34  12.92  11.83  \n",
      "2061-01-06   7.50   8.12  13.17  \n"
     ]
    }
   ],
   "source": [
    "data = wind_data.copy() \n",
    "data.columns = column_names\n",
    "date_columns = [\"Yr\", \"Mo\", \"Dy\"]\n",
    "data[\"DateTime\"] = pd.to_datetime(data[date_columns].astype(str).agg('-'.join, axis=1), format='%y-%m-%d')\n",
    "\n",
    "# Function to fix the year\n",
    "def fix_year(year):\n",
    "    if year >= 70:\n",
    "        return year + 1900\n",
    "    else:\n",
    "        return year + 2000\n",
    "data['Yr'] = data['Yr'].apply(fix_year)\n",
    "data = data.set_index('DateTime')\n",
    "data = data.drop(columns=date_columns)\n",
    "print(data.head())"
   ]
  },
  {
   "cell_type": "code",
   "execution_count": 26,
   "id": "b56d0630",
   "metadata": {},
   "outputs": [
    {
     "name": "stdout",
     "output_type": "stream",
     "text": [
      "Number of missing values for each location:\n",
      "RPT    6\n",
      "VAL    3\n",
      "ROS    2\n",
      "KIL    5\n",
      "SHA    1\n",
      "BIR    0\n",
      "DUB    3\n",
      "CLA    2\n",
      "MUL    3\n",
      "CLO    1\n",
      "BEL    0\n",
      "MAL    4\n",
      "dtype: int64\n"
     ]
    }
   ],
   "source": [
    "data.index = pd.to_datetime(data.index)\n",
    "missing_values = data.isnull().sum()\n",
    "print(\"Number of missing values for each location:\")\n",
    "print(missing_values)"
   ]
  },
  {
   "cell_type": "code",
   "execution_count": 27,
   "id": "fc39041a",
   "metadata": {},
   "outputs": [
    {
     "name": "stdout",
     "output_type": "stream",
     "text": [
      "Number of missing values for each location:\n",
      "RPT    6\n",
      "VAL    3\n",
      "ROS    2\n",
      "KIL    5\n",
      "SHA    1\n",
      "BIR    0\n",
      "DUB    3\n",
      "CLA    2\n",
      "MUL    3\n",
      "CLO    1\n",
      "BEL    0\n",
      "MAL    4\n",
      "dtype: int64\n"
     ]
    }
   ],
   "source": [
    "data.index = pd.to_datetime(data.index)\n",
    "missing_values = data.isnull().sum()\n",
    "print(\"Number of missing values for each location:\")\n",
    "print(missing_values)"
   ]
  },
  {
   "cell_type": "code",
   "execution_count": 28,
   "id": "d22e100b",
   "metadata": {},
   "outputs": [
    {
     "name": "stdout",
     "output_type": "stream",
     "text": [
      "Total number of non-missing values in the dataset: 78846\n"
     ]
    }
   ],
   "source": [
    "data = wind_data.copy()\n",
    "data.columns = column_names\n",
    "date_columns = [\"Yr\", \"Mo\", \"Dy\"]\n",
    "data[\"DateTime\"] = pd.to_datetime(data[date_columns].astype(str).agg('-'.join, axis=1), format='%y-%m-%d')\n",
    "\n",
    "# Function to fix the year\n",
    "def fix_year(year):\n",
    "    if year >= 70:\n",
    "        return year + 1900\n",
    "    else:\n",
    "        return year + 2000\n",
    "\n",
    "data['Yr'] = data['Yr'].apply(fix_year)\n",
    "\n",
    "# Setting  the 'DateTime' column as index\n",
    "data = data.set_index('DateTime')\n",
    "data = data.drop(columns=date_columns)\n",
    "data.index = pd.to_datetime(data.index)\n",
    "\n",
    "# Counting the total number of non-missing values in the dataset\n",
    "total_non_missing = data.count().sum()\n",
    "print(\"Total number of non-missing values in the dataset:\", total_non_missing)"
   ]
  },
  {
   "cell_type": "code",
   "execution_count": 29,
   "id": "98c31aac",
   "metadata": {},
   "outputs": [
    {
     "name": "stdout",
     "output_type": "stream",
     "text": [
      "Mean windspeed over all locations and times: 10.22759021606677\n"
     ]
    }
   ],
   "source": [
    "data = wind_data.copy() \n",
    "data.columns = column_names\n",
    "\n",
    "# Combine the first three columns into a single datetime index\n",
    "date_columns = [\"Yr\", \"Mo\", \"Dy\"]\n",
    "data[\"DateTime\"] = pd.to_datetime(data[date_columns].astype(str).agg('-'.join, axis=1), format='%y-%m-%d')\n",
    "\n",
    "# Function to fix the year\n",
    "def fix_year(year):\n",
    "    if year >= 70:\n",
    "        return year + 1900\n",
    "    else:\n",
    "        return year + 2000\n",
    "\n",
    "# Apply the fix_year function to the 'Yr' column\n",
    "data['Yr'] = data['Yr'].apply(fix_year)\n",
    "data = data.set_index('DateTime')\n",
    "data = data.drop(columns=date_columns)\n",
    "data.index = pd.to_datetime(data.index)\n",
    "# Calculating the windspeeds over all locations and times\n",
    "mean_windspeed = data.mean().mean()\n",
    "print(\"Mean windspeed over all locations and times:\", mean_windspeed)"
   ]
  },
  {
   "cell_type": "code",
   "execution_count": 30,
   "id": "724eb40d",
   "metadata": {},
   "outputs": [
    {
     "data": {
      "text/html": [
       "<div>\n",
       "<style scoped>\n",
       "    .dataframe tbody tr th:only-of-type {\n",
       "        vertical-align: middle;\n",
       "    }\n",
       "\n",
       "    .dataframe tbody tr th {\n",
       "        vertical-align: top;\n",
       "    }\n",
       "\n",
       "    .dataframe thead th {\n",
       "        text-align: right;\n",
       "    }\n",
       "</style>\n",
       "<table border=\"1\" class=\"dataframe\">\n",
       "  <thead>\n",
       "    <tr style=\"text-align: right;\">\n",
       "      <th></th>\n",
       "      <th>RPT</th>\n",
       "      <th>VAL</th>\n",
       "      <th>ROS</th>\n",
       "      <th>KIL</th>\n",
       "      <th>SHA</th>\n",
       "      <th>BIR</th>\n",
       "      <th>DUB</th>\n",
       "      <th>CLA</th>\n",
       "      <th>MUL</th>\n",
       "      <th>CLO</th>\n",
       "      <th>BEL</th>\n",
       "      <th>MAL</th>\n",
       "    </tr>\n",
       "  </thead>\n",
       "  <tbody>\n",
       "    <tr>\n",
       "      <th>count</th>\n",
       "      <td>6567.000000</td>\n",
       "      <td>6570.000000</td>\n",
       "      <td>6571.000000</td>\n",
       "      <td>6568.000000</td>\n",
       "      <td>6572.000000</td>\n",
       "      <td>6573.000000</td>\n",
       "      <td>6570.000000</td>\n",
       "      <td>6571.000000</td>\n",
       "      <td>6570.000000</td>\n",
       "      <td>6572.000000</td>\n",
       "      <td>6573.000000</td>\n",
       "      <td>6569.000000</td>\n",
       "    </tr>\n",
       "    <tr>\n",
       "      <th>mean</th>\n",
       "      <td>12.362580</td>\n",
       "      <td>10.643658</td>\n",
       "      <td>11.660297</td>\n",
       "      <td>6.306014</td>\n",
       "      <td>10.455834</td>\n",
       "      <td>7.091832</td>\n",
       "      <td>9.796753</td>\n",
       "      <td>8.494786</td>\n",
       "      <td>8.493234</td>\n",
       "      <td>8.706742</td>\n",
       "      <td>13.120189</td>\n",
       "      <td>15.599164</td>\n",
       "    </tr>\n",
       "    <tr>\n",
       "      <th>std</th>\n",
       "      <td>5.618744</td>\n",
       "      <td>5.267488</td>\n",
       "      <td>5.008796</td>\n",
       "      <td>3.605898</td>\n",
       "      <td>4.936125</td>\n",
       "      <td>3.968837</td>\n",
       "      <td>4.977704</td>\n",
       "      <td>4.499739</td>\n",
       "      <td>4.167090</td>\n",
       "      <td>4.504044</td>\n",
       "      <td>5.835104</td>\n",
       "      <td>6.700300</td>\n",
       "    </tr>\n",
       "    <tr>\n",
       "      <th>min</th>\n",
       "      <td>0.670000</td>\n",
       "      <td>0.210000</td>\n",
       "      <td>1.500000</td>\n",
       "      <td>0.000000</td>\n",
       "      <td>0.130000</td>\n",
       "      <td>0.000000</td>\n",
       "      <td>0.000000</td>\n",
       "      <td>0.000000</td>\n",
       "      <td>0.000000</td>\n",
       "      <td>0.040000</td>\n",
       "      <td>0.130000</td>\n",
       "      <td>0.670000</td>\n",
       "    </tr>\n",
       "    <tr>\n",
       "      <th>50%</th>\n",
       "      <td>11.710000</td>\n",
       "      <td>10.170000</td>\n",
       "      <td>10.920000</td>\n",
       "      <td>5.750000</td>\n",
       "      <td>9.960000</td>\n",
       "      <td>6.830000</td>\n",
       "      <td>9.210000</td>\n",
       "      <td>8.080000</td>\n",
       "      <td>8.170000</td>\n",
       "      <td>8.290000</td>\n",
       "      <td>12.500000</td>\n",
       "      <td>15.000000</td>\n",
       "    </tr>\n",
       "    <tr>\n",
       "      <th>max</th>\n",
       "      <td>35.800000</td>\n",
       "      <td>33.370000</td>\n",
       "      <td>33.840000</td>\n",
       "      <td>28.460000</td>\n",
       "      <td>37.540000</td>\n",
       "      <td>26.160000</td>\n",
       "      <td>30.370000</td>\n",
       "      <td>31.080000</td>\n",
       "      <td>25.880000</td>\n",
       "      <td>28.210000</td>\n",
       "      <td>42.380000</td>\n",
       "      <td>42.540000</td>\n",
       "    </tr>\n",
       "  </tbody>\n",
       "</table>\n",
       "</div>"
      ],
      "text/plain": [
       "               RPT          VAL          ROS          KIL          SHA  \\\n",
       "count  6567.000000  6570.000000  6571.000000  6568.000000  6572.000000   \n",
       "mean     12.362580    10.643658    11.660297     6.306014    10.455834   \n",
       "std       5.618744     5.267488     5.008796     3.605898     4.936125   \n",
       "min       0.670000     0.210000     1.500000     0.000000     0.130000   \n",
       "50%      11.710000    10.170000    10.920000     5.750000     9.960000   \n",
       "max      35.800000    33.370000    33.840000    28.460000    37.540000   \n",
       "\n",
       "               BIR          DUB          CLA          MUL          CLO  \\\n",
       "count  6573.000000  6570.000000  6571.000000  6570.000000  6572.000000   \n",
       "mean      7.091832     9.796753     8.494786     8.493234     8.706742   \n",
       "std       3.968837     4.977704     4.499739     4.167090     4.504044   \n",
       "min       0.000000     0.000000     0.000000     0.000000     0.040000   \n",
       "50%       6.830000     9.210000     8.080000     8.170000     8.290000   \n",
       "max      26.160000    30.370000    31.080000    25.880000    28.210000   \n",
       "\n",
       "               BEL          MAL  \n",
       "count  6573.000000  6569.000000  \n",
       "mean     13.120189    15.599164  \n",
       "std       5.835104     6.700300  \n",
       "min       0.130000     0.670000  \n",
       "50%      12.500000    15.000000  \n",
       "max      42.380000    42.540000  "
      ]
     },
     "execution_count": 30,
     "metadata": {},
     "output_type": "execute_result"
    }
   ],
   "source": [
    "data.describe(percentiles=[])"
   ]
  },
  {
   "cell_type": "code",
   "execution_count": 31,
   "id": "22933292",
   "metadata": {},
   "outputs": [
    {
     "name": "stdout",
     "output_type": "stream",
     "text": [
      "             Min    Max       Mean       Std\n",
      "DateTime                                    \n",
      "2061-01-02  6.50  17.54  11.336364  3.188994\n",
      "2061-01-03  6.17  18.50  11.641818  3.681912\n",
      "2061-01-04  1.79  11.75   6.619167  3.198126\n",
      "2061-01-05  6.17  13.33  10.630000  2.445356\n",
      "2061-01-06  4.42  13.21   8.240000  2.998063\n",
      "...          ...    ...        ...       ...\n",
      "1978-12-27  8.08  40.08  16.708333  7.868076\n",
      "1978-12-28  5.00  41.46  15.150000  9.687857\n",
      "1978-12-29  8.71  29.58  14.890000  5.756836\n",
      "1978-12-30  9.13  28.79  15.367500  5.540437\n",
      "1978-12-31  9.59  27.29  15.402500  5.702483\n",
      "\n",
      "[6573 rows x 4 columns]\n"
     ]
    }
   ],
   "source": [
    "data = wind_data.copy()\n",
    "data.columns = column_names\n",
    "date_columns = [\"Yr\", \"Mo\", \"Dy\"]\n",
    "data[\"DateTime\"] = pd.to_datetime(data[date_columns].astype(str).agg('-'.join, axis=1), format='%y-%m-%d')\n",
    "def fix_year(year):\n",
    "    if year >= 70:\n",
    "        return year + 1900\n",
    "    else:\n",
    "        return year + 2000\n",
    "data['Yr'] = data['Yr'].apply(fix_year)\n",
    "data = data.set_index('DateTime')\n",
    "data = data.drop(columns=date_columns)\n",
    "data.index = pd.to_datetime(data.index)\n",
    "\n",
    "# Calculating min, max, mean, and standard deviations of windspeeds at each day\n",
    "day_stats = pd.DataFrame({\n",
    "    'Min': data.min(axis=1),\n",
    "    'Max': data.max(axis=1),\n",
    "    'Mean': data.mean(axis=1),\n",
    "    'Std': data.std(axis=1)\n",
    "})\n",
    "print(day_stats)"
   ]
  },
  {
   "cell_type": "code",
   "execution_count": 32,
   "id": "0aab0ca2",
   "metadata": {},
   "outputs": [
    {
     "name": "stdout",
     "output_type": "stream",
     "text": [
      "RPT    14.846978\n",
      "VAL    12.910881\n",
      "ROS    13.299856\n",
      "KIL     7.195745\n",
      "SHA    11.667734\n",
      "BIR     8.051580\n",
      "DUB    11.816032\n",
      "CLA     9.510719\n",
      "MUL     9.540898\n",
      "CLO    10.049031\n",
      "BEL    14.543429\n",
      "MAL    18.034129\n",
      "dtype: float64\n"
     ]
    }
   ],
   "source": [
    "data = wind_data.copy()\n",
    "data.columns = column_names\n",
    "date_columns = [\"Yr\", \"Mo\", \"Dy\"]\n",
    "data[\"DateTime\"] = pd.to_datetime(data[date_columns].astype(str).agg('-'.join, axis=1), format='%y-%m-%d')\n",
    "\n",
    "# Function to fix the year\n",
    "def fix_year(year):\n",
    "    if year >= 70:\n",
    "        return year + 1900\n",
    "    else:\n",
    "        return year + 2000\n",
    "data['Yr'] = data['Yr'].apply(fix_year)\n",
    "data = data.set_index('DateTime')\n",
    "data = data.drop(columns=date_columns)\n",
    "data.index = pd.to_datetime(data.index)\n",
    "# Calculate average windspeed in January for each location\n",
    "january_avg = data[data.index.month == 1].mean()\n",
    "print(january_avg)"
   ]
  },
  {
   "cell_type": "code",
   "execution_count": 33,
   "id": "a47ba7aa",
   "metadata": {},
   "outputs": [
    {
     "name": "stdout",
     "output_type": "stream",
     "text": [
      "                  RPT        VAL        ROS       KIL        SHA       BIR  \\\n",
      "DateTime                                                                     \n",
      "1969-12-31  11.166356   9.723699  10.902000  5.767973   9.873918  6.189973   \n",
      "1970-12-31  12.600329  10.726932  11.730247  6.217178  10.567370  7.609452   \n",
      "1971-12-31  11.273123   9.095178  11.088329  5.241507   9.440329  6.097151   \n",
      "1972-12-31  12.463962  10.561311  12.058333  5.929699   9.430410  6.358825   \n",
      "1973-12-31  11.828466  10.680493  10.680493  5.547863   9.640877  6.548740   \n",
      "\n",
      "                 DUB       CLA       MUL       CLO        BEL        MAL  \n",
      "DateTime                                                                  \n",
      "1969-12-31  8.564493  7.711397  7.924521  7.754384  12.621233  15.762904  \n",
      "1970-12-31  9.609890  8.334630  9.297616  8.289808  13.183644  16.456027  \n",
      "1971-12-31  8.385890  6.757315  7.915370  7.229753  12.208932  15.025233  \n",
      "1972-12-31  9.704508  7.680792  8.357295  7.515273  12.727377  15.028716  \n",
      "1973-12-31  8.482110  7.614274  8.245534  7.812411  12.169699  15.441096  \n"
     ]
    }
   ],
   "source": [
    "data = wind_data.copy()\n",
    "data.columns = column_names\n",
    "date_columns = [\"Yr\", \"Mo\", \"Dy\"]\n",
    "data[\"DateTime\"] = pd.to_datetime(data[date_columns].astype(str).agg('-'.join, axis=1), format='%y-%m-%d')\n",
    "def fix_year(year):\n",
    "    if year >= 70:\n",
    "        return year + 1900\n",
    "    else:\n",
    "        return year + 2000\n",
    "data['Yr'] = data['Yr'].apply(fix_year)\n",
    "data = data.set_index('DateTime')\n",
    "data = data.drop(columns=date_columns)\n",
    "data.index = pd.to_datetime(data.index)\n",
    "yearly_data = data.resample('Y').mean()\n",
    "print(yearly_data.head())"
   ]
  },
  {
   "cell_type": "code",
   "execution_count": 34,
   "id": "7a07a684",
   "metadata": {},
   "outputs": [
    {
     "name": "stdout",
     "output_type": "stream",
     "text": [
      "                  RPT        VAL        ROS       KIL        SHA       BIR  \\\n",
      "DateTime                                                                     \n",
      "1969-01-31  12.824839  12.113871  11.403871  6.708710  10.557097  5.926452   \n",
      "1969-02-28  13.504643  10.426786  14.240714  7.326786  11.314643  5.482857   \n",
      "1969-03-31  10.398710   8.533226  12.277419  6.125161   9.618065  4.942581   \n",
      "1969-04-30  12.591333   9.769333  10.828000  6.937333  11.304667  5.578000   \n",
      "1969-05-31   9.419032   7.941935   9.298387  5.137097   8.618710  5.391935   \n",
      "\n",
      "                  DUB       CLA       MUL       CLO        BEL        MAL  \n",
      "DateTime                                                                   \n",
      "1969-01-31   9.882903  8.375161  8.378065  9.515484  13.410000  16.957742  \n",
      "1969-02-28  10.983929  8.747143  8.994286  9.081071  14.334643  19.786786  \n",
      "1969-03-31   9.193226  8.503226  8.376129  7.800968  10.394194  16.420000  \n",
      "1969-04-30   9.383333  8.141667  9.201333  8.370333  11.905667  14.124000  \n",
      "1969-05-31   6.309032  5.752581  5.907419  6.317419   9.332258  11.794839  \n"
     ]
    }
   ],
   "source": [
    "data = wind_data.copy()\n",
    "data.columns = column_names\n",
    "date_columns = [\"Yr\", \"Mo\", \"Dy\"]\n",
    "data[\"DateTime\"] = pd.to_datetime(data[date_columns].astype(str).agg('-'.join, axis=1), format='%y-%m-%d')\n",
    "def fix_year(year):\n",
    "    if year >= 70:\n",
    "        return year + 1900\n",
    "    else:\n",
    "        return year + 2000\n",
    "data['Yr'] = data['Yr'].apply(fix_year)\n",
    "data = data.set_index('DateTime')\n",
    "data = data.drop(columns=date_columns)\n",
    "data.index = pd.to_datetime(data.index)\n",
    "monthly_data = data.resample('M').mean()\n",
    "print(monthly_data.head())"
   ]
  },
  {
   "cell_type": "code",
   "execution_count": 35,
   "id": "5337d0fe",
   "metadata": {},
   "outputs": [
    {
     "name": "stdout",
     "output_type": "stream",
     "text": [
      "                  RPT        VAL        ROS       KIL        SHA       BIR  \\\n",
      "DateTime                                                                     \n",
      "1969-01-05   5.884000   3.958000   6.758000  2.752000   5.416000  2.392000   \n",
      "1969-01-12  14.708571  12.521429  15.135714  6.851429  11.940000  6.744286   \n",
      "1969-01-19  15.030000  16.452857  10.778571  7.774286  12.590000  6.821429   \n",
      "1969-01-26  14.438571  14.267143  13.017143  7.721429  10.607143  7.114286   \n",
      "1969-02-02  13.510000  11.917143  10.702857  8.111429  11.581429  5.612857   \n",
      "\n",
      "                  DUB        CLA        MUL        CLO        BEL        MAL  \n",
      "DateTime                                                                      \n",
      "1969-01-05   8.626000   4.388000   5.640000   7.160000  11.510000  16.108000  \n",
      "1969-01-12  10.591429   9.174286   9.107143  10.124286  12.130000  20.385714  \n",
      "1969-01-19   9.998571   8.815714   9.078571   8.385714  13.624286  14.248571  \n",
      "1969-01-26   8.537143  10.030000   7.720000  10.720000  15.475714  15.827143  \n",
      "1969-02-02  12.305714   8.394286  10.437143  10.771429  15.757143  20.284286  \n"
     ]
    }
   ],
   "source": [
    "data = wind_data.copy()\n",
    "data.columns = column_names\n",
    "date_columns = [\"Yr\", \"Mo\", \"Dy\"]\n",
    "data[\"DateTime\"] = pd.to_datetime(data[date_columns].astype(str).agg('-'.join, axis=1), format='%y-%m-%d')\n",
    "def fix_year(year):\n",
    "    if year >= 70:\n",
    "        return year + 1900\n",
    "    else:\n",
    "        return year + 2000\n",
    "data['Yr'] = data['Yr'].apply(fix_year)\n",
    "data = data.set_index('DateTime')\n",
    "data = data.drop(columns=date_columns)\n",
    "data.index = pd.to_datetime(data.index)\n",
    "weekly_data = data.resample('W').mean()\n",
    "print(weekly_data.head())"
   ]
  },
  {
   "cell_type": "code",
   "execution_count": 36,
   "id": "1f98bd48",
   "metadata": {},
   "outputs": [
    {
     "name": "stdout",
     "output_type": "stream",
     "text": [
      "             RPT                                VAL                    \\\n",
      "             min    max       mean       std    min    max       mean   \n",
      "DateTime                                                                \n",
      "1969-01-06  2.62  14.25   7.278333  4.319673   0.54  11.12   5.151667   \n",
      "1969-01-13  4.50  22.34  13.315714  6.710583   1.50  18.50  11.147143   \n",
      "1969-01-20  9.59  25.08  16.975714  5.149232  13.29  25.17  18.554286   \n",
      "1969-01-27  4.00  20.54  14.462857  6.008355   5.13  20.25  13.892857   \n",
      "1969-02-03  5.21  18.58  12.457143  4.694119   3.96  19.79  11.380000   \n",
      "\n",
      "                       ROS         ...        CLO              BEL         \\\n",
      "                 std   min    max  ...       mean       std    min    max   \n",
      "DateTime                           ...                                      \n",
      "1969-01-06  4.252131  5.41  19.50  ...   7.453333  2.224650   6.08  16.08   \n",
      "1969-01-13  7.108260  4.63  20.91  ...   9.457143  4.016195   2.62  18.84   \n",
      "1969-01-20  4.536860  5.58  19.21  ...   9.367143  4.182821  10.50  19.46   \n",
      "1969-01-27  5.820140  4.79  16.71  ...  11.137143  5.410766   3.46  22.04   \n",
      "1969-02-03  5.586663  3.83  14.96  ...   9.397143  4.907833   4.83  26.30   \n",
      "\n",
      "                                   MAL                              \n",
      "                 mean       std    min    max       mean       std  \n",
      "DateTime                                                            \n",
      "1969-01-06  10.605000  3.541891  12.50  17.25  15.506667  2.072860  \n",
      "1969-01-13  11.635714  5.775754  10.04  27.71  20.237143  7.304614  \n",
      "1969-01-20  15.624286  3.897161   7.62  24.25  15.272857  6.984656  \n",
      "1969-01-27  14.548571  6.545804   7.46  19.62  15.165714  4.397817  \n",
      "1969-02-03  16.422857  6.897168   9.13  31.54  20.171429  8.191376  \n",
      "\n",
      "[5 rows x 48 columns]\n"
     ]
    }
   ],
   "source": [
    "data = wind_data.copy()\n",
    "data.columns = column_names\n",
    "date_columns = [\"Yr\", \"Mo\", \"Dy\"]\n",
    "data[\"DateTime\"] = pd.to_datetime(data[date_columns].astype(str).agg('-'.join, axis=1), format='%y-%m-%d')\n",
    "def fix_year(year):\n",
    "    if year >= 70:\n",
    "        return year + 1900\n",
    "    else:\n",
    "        return year + 2000\n",
    "data['Yr'] = data['Yr'].apply(fix_year)\n",
    "data = data.set_index('DateTime')\n",
    "data = data.drop(columns=date_columns)\n",
    "data.index = pd.to_datetime(data.index)\n",
    "data = data.sort_index()\n",
    "weekly_data = data.loc['1961-01-02':].resample('W-Mon').agg(['min', 'max', 'mean', 'std']).head(52)\n",
    "print(weekly_data.head())"
   ]
  },
  {
   "cell_type": "markdown",
   "id": "fd9536d5",
   "metadata": {},
   "source": [
    "<h1><font color='#004b87'>Question 5</font></h1>\n",
    "<p>Step 1. Import the necessary libraries</p>\n",
    "<p>Step 2. Import the dataset from this address.</p>\n",
    "<p>Step 3. Assign it to a variable called chipo.</p>\n",
    "<p>Step 4. See the first 10 entries</p>\n",
    "<p>Step 5. What is the number of observations in the dataset?</p>\n",
    "<p>Step 6. What is the number of columns in the dataset?</p>\n",
    "<p>Step 7. Print the name of all the columns.</p>\n",
    "<p>Step 8. How is the dataset indexed?</p>\n",
    "<p>Step 9. Which was the most-ordered item?</p>\n",
    "<p>Step 10. For the most-ordered item, how many items were ordered?</p>\n",
    "<p>Step 11. What was the most ordered item in the choice_description column?</p>\n",
    "<p>Step 12. How many items were orderd in total?</p>\n",
    "<p>Step 13.</p>\n",
    "<ul>\n",
    "  <li>Turn the item price into a float</li>\n",
    "  <li>Check the item price type</li>\n",
    "  <li>Create a lambda function and change the type of item price</li>\n",
    "  <li>Check the item price type</li>\n",
    "</ul>\n",
    "<p>Step 14. How much was the revenue for the period in the dataset?</p>\n",
    "<p>Step 15. How many orders were made in the period?</p>\n",
    "<p>Step 16. What is the average revenue amount per order?</p>\n",
    "<p>Step 17. How many different items are sold?</p>"
   ]
  },
  {
   "cell_type": "code",
   "execution_count": 37,
   "id": "c777eab3",
   "metadata": {},
   "outputs": [
    {
     "name": "stdout",
     "output_type": "stream",
     "text": [
      "   order_id  quantity                              item_name  \\\n",
      "0         1         1           Chips and Fresh Tomato Salsa   \n",
      "1         1         1                                   Izze   \n",
      "2         1         1                       Nantucket Nectar   \n",
      "3         1         1  Chips and Tomatillo-Green Chili Salsa   \n",
      "4         2         2                           Chicken Bowl   \n",
      "5         3         1                           Chicken Bowl   \n",
      "6         3         1                          Side of Chips   \n",
      "7         4         1                          Steak Burrito   \n",
      "8         4         1                       Steak Soft Tacos   \n",
      "9         5         1                          Steak Burrito   \n",
      "\n",
      "                                  choice_description item_price  \n",
      "0                                                NaN     $2.39   \n",
      "1                                       [Clementine]     $3.39   \n",
      "2                                            [Apple]     $3.39   \n",
      "3                                                NaN     $2.39   \n",
      "4  [Tomatillo-Red Chili Salsa (Hot), [Black Beans...    $16.98   \n",
      "5  [Fresh Tomato Salsa (Mild), [Rice, Cheese, Sou...    $10.98   \n",
      "6                                                NaN     $1.69   \n",
      "7  [Tomatillo Red Chili Salsa, [Fajita Vegetables...    $11.75   \n",
      "8  [Tomatillo Green Chili Salsa, [Pinto Beans, Ch...     $9.25   \n",
      "9  [Fresh Tomato Salsa, [Rice, Black Beans, Pinto...     $9.25   \n"
     ]
    }
   ],
   "source": [
    "url = 'https://raw.githubusercontent.com/justmarkham/DAT8/master/data/chipotle.tsv'\n",
    "chipo = pd.read_csv(url, delimiter='\\t')\n",
    "\n",
    "# Step 4: See the first 10 entries\n",
    "print(chipo.head(10))"
   ]
  },
  {
   "cell_type": "code",
   "execution_count": 38,
   "id": "5fcbe5f7",
   "metadata": {},
   "outputs": [
    {
     "name": "stdout",
     "output_type": "stream",
     "text": [
      "Number of observations: 4622\n"
     ]
    }
   ],
   "source": [
    "# Step 5: What is the number of observations in the dataset?\n",
    "print(f\"Number of observations: {chipo.shape[0]}\")"
   ]
  },
  {
   "cell_type": "code",
   "execution_count": 39,
   "id": "3b445866",
   "metadata": {},
   "outputs": [
    {
     "name": "stdout",
     "output_type": "stream",
     "text": [
      "Number of columns: 5\n"
     ]
    }
   ],
   "source": [
    "# Step 6: What is the number of columns in the dataset?\n",
    "print(f\"Number of columns: {chipo.shape[1]}\")"
   ]
  },
  {
   "cell_type": "code",
   "execution_count": 40,
   "id": "aae42d3f",
   "metadata": {},
   "outputs": [
    {
     "name": "stdout",
     "output_type": "stream",
     "text": [
      "Column names: ['order_id', 'quantity', 'item_name', 'choice_description', 'item_price']\n"
     ]
    }
   ],
   "source": [
    "# Step 7: Print the name of all the columns.\n",
    "print(\"Column names:\", chipo.columns.tolist())"
   ]
  },
  {
   "cell_type": "code",
   "execution_count": 41,
   "id": "8851c6aa",
   "metadata": {},
   "outputs": [
    {
     "name": "stdout",
     "output_type": "stream",
     "text": [
      "Index: RangeIndex(start=0, stop=4622, step=1)\n"
     ]
    }
   ],
   "source": [
    "# Step 8: How is the dataset indexed?\n",
    "print(\"Index:\", chipo.index)"
   ]
  },
  {
   "cell_type": "code",
   "execution_count": 42,
   "id": "1566aed0",
   "metadata": {},
   "outputs": [
    {
     "name": "stdout",
     "output_type": "stream",
     "text": [
      "Most ordered item: Chicken Bowl\n"
     ]
    }
   ],
   "source": [
    "# Step 9: Which was the most-ordered item?\n",
    "most_ordered_item = chipo.groupby('item_name').quantity.sum().idxmax()\n",
    "print(\"Most ordered item:\", most_ordered_item)"
   ]
  },
  {
   "cell_type": "code",
   "execution_count": 43,
   "id": "3e858020",
   "metadata": {},
   "outputs": [
    {
     "name": "stdout",
     "output_type": "stream",
     "text": [
      "Total ordered for Chicken Bowl: 761\n"
     ]
    }
   ],
   "source": [
    "# Step 10: For the most-ordered item, how many items were ordered?\n",
    "total_ordered = chipo.groupby('item_name').quantity.sum().max()\n",
    "print(f\"Total ordered for {most_ordered_item}: {total_ordered}\")"
   ]
  },
  {
   "cell_type": "code",
   "execution_count": 44,
   "id": "f8bf2fd1",
   "metadata": {},
   "outputs": [
    {
     "name": "stdout",
     "output_type": "stream",
     "text": [
      "Most ordered item in choice_description: [Diet Coke]\n"
     ]
    }
   ],
   "source": [
    "# Step 11: What was the most ordered item in the choice_description column?\n",
    "most_ordered_description = chipo.groupby('choice_description').quantity.sum().idxmax()\n",
    "print(\"Most ordered item in choice_description:\", most_ordered_description)"
   ]
  },
  {
   "cell_type": "code",
   "execution_count": 45,
   "id": "a80ccf36",
   "metadata": {},
   "outputs": [
    {
     "name": "stdout",
     "output_type": "stream",
     "text": [
      "Total items ordered: 4972\n"
     ]
    }
   ],
   "source": [
    "# Step 12: How many items were ordered in total?\n",
    "total_items_ordered = chipo.quantity.sum()\n",
    "print(\"Total items ordered:\", total_items_ordered)"
   ]
  },
  {
   "cell_type": "code",
   "execution_count": 46,
   "id": "59d630c4",
   "metadata": {},
   "outputs": [
    {
     "name": "stdout",
     "output_type": "stream",
     "text": [
      "Item price type after conversion: float64\n"
     ]
    }
   ],
   "source": [
    "# Step 13: Convert item price to float and check the type\n",
    "chipo['item_price'] = chipo['item_price'].replace('[\\$,]', '', regex=True).astype(float)\n",
    "print(\"Item price type after conversion:\", chipo['item_price'].dtype)"
   ]
  },
  {
   "cell_type": "code",
   "execution_count": 47,
   "id": "b97256d1",
   "metadata": {},
   "outputs": [
    {
     "name": "stdout",
     "output_type": "stream",
     "text": [
      "Total revenue: 39237.02\n"
     ]
    }
   ],
   "source": [
    "# Step 14: How much was the revenue for the period in the dataset?\n",
    "total_revenue = (chipo['quantity'] * chipo['item_price']).sum()\n",
    "print(\"Total revenue:\", total_revenue)"
   ]
  },
  {
   "cell_type": "code",
   "execution_count": 48,
   "id": "ec12d661",
   "metadata": {},
   "outputs": [
    {
     "name": "stdout",
     "output_type": "stream",
     "text": [
      "Total orders: 1834\n"
     ]
    }
   ],
   "source": [
    "# Step 15: How many orders were made in the period?\n",
    "total_orders = chipo.order_id.nunique()\n",
    "print(\"Total orders:\", total_orders)"
   ]
  },
  {
   "cell_type": "code",
   "execution_count": 49,
   "id": "90822fae",
   "metadata": {},
   "outputs": [
    {
     "name": "stdout",
     "output_type": "stream",
     "text": [
      "Average revenue per order: 21.39423118865867\n"
     ]
    }
   ],
   "source": [
    "# Step 16: What is the average revenue amount per order?\n",
    "average_revenue_per_order = total_revenue / total_orders\n",
    "print(\"Average revenue per order:\", average_revenue_per_order)"
   ]
  },
  {
   "cell_type": "code",
   "execution_count": 50,
   "id": "92756526",
   "metadata": {},
   "outputs": [
    {
     "name": "stdout",
     "output_type": "stream",
     "text": [
      "Different items sold: 50\n"
     ]
    }
   ],
   "source": [
    "# Step 17: How many different items are sold?\n",
    "total_unique_items = chipo.item_name.nunique()\n",
    "print(\"Different items sold:\", total_unique_items)"
   ]
  },
  {
   "cell_type": "markdown",
   "id": "3bad921d",
   "metadata": {},
   "source": [
    "<h1><font color='#004b87'>Question 6</font></h1>\n",
    "<p>Create a line plot showing the number of marriages and divorces per capita in the U.S. between 1867 and 2014. Label both lines and show the legend. Don't forget to label your axes!</p>"
   ]
  },
  {
   "cell_type": "code",
   "execution_count": 51,
   "id": "f7c75a2b",
   "metadata": {},
   "outputs": [],
   "source": [
    "import matplotlib.pyplot as plt"
   ]
  },
  {
   "cell_type": "code",
   "execution_count": 52,
   "id": "579ca9d1",
   "metadata": {},
   "outputs": [
    {
     "name": "stdout",
     "output_type": "stream",
     "text": [
      "   Year  Marriages  Divorces  Population  Marriages_per_1000  \\\n",
      "0  1867   357000.0   10000.0    36970000                 9.7   \n",
      "1  1868   345000.0   10000.0    37885000                 9.1   \n",
      "2  1869   348000.0   11000.0    38870000                 9.0   \n",
      "3  1870   352000.0   11000.0    39905000                 8.8   \n",
      "4  1871   359000.0   12000.0    41010000                 8.8   \n",
      "\n",
      "   Divorces_per_1000  \n",
      "0                0.3  \n",
      "1                0.3  \n",
      "2                0.3  \n",
      "3                0.3  \n",
      "4                0.3  \n"
     ]
    }
   ],
   "source": [
    "file_path = './us-marriages-divorces-1867-2014.csv'\n",
    "data = pd.read_csv(file_path)\n",
    "print(data.head())"
   ]
  },
  {
   "cell_type": "code",
   "execution_count": 53,
   "id": "d5b4a837",
   "metadata": {},
   "outputs": [
    {
     "data": {
      "image/png": "[encoded data removed]",
      "text/plain": [
       "<Figure size 1200x600 with 1 Axes>"
      ]
     },
     "metadata": {},
     "output_type": "display_data"
    }
   ],
   "source": [
    "plt.figure(figsize=(12, 6))  \n",
    "plt.plot(data['Year'], data['Marriages_per_1000'], label='Marriages per 1000', marker='o') \n",
    "plt.plot(data['Year'], data['Divorces_per_1000'], label='Divorces per 1000', marker='o')\n",
    "\n",
    "plt.title('Marriages and Divorces per 1000 in the U.S. (1867 - 2014)')\n",
    "plt.xlabel('Year')\n",
    "plt.ylabel('Counts per 1000')\n",
    "\n",
    "plt.legend()\n",
    "\n",
    "plt.grid(True)\n",
    "\n",
    "plt.show()"
   ]
  },
  {
   "cell_type": "markdown",
   "id": "26301afb",
   "metadata": {},
   "source": [
    "<h1><font color='#004b87'>Question 7</font></h1>\n",
    "<p>Create a vertical bar chart comparing the number of marriages and divorces per capita in the U.S. between 1900, 1950, and 2000. Don't forget to label your axes!</p>"
   ]
  },
  {
   "cell_type": "code",
   "execution_count": 54,
   "id": "7f7631c8",
   "metadata": {},
   "outputs": [
    {
     "data": {
      "image/png": "[encoded data removed]",
      "text/plain": [
       "<Figure size 1000x500 with 1 Axes>"
      ]
     },
     "metadata": {},
     "output_type": "display_data"
    }
   ],
   "source": [
    "file_path = './us-marriages-divorces-1867-2014.csv'\n",
    "data = pd.read_csv(file_path)\n",
    "selected_years = data[data['Year'].isin([1900, 1950, 2000])]\n",
    "\n",
    "plt.figure(figsize=(10, 5))\n",
    "bar_width = 0.35\n",
    "index = range(len(selected_years['Year']))\n",
    "\n",
    "plt.bar(index, selected_years['Marriages_per_1000'], bar_width, label='Marriages per 1000')\n",
    "plt.bar([p + bar_width for p in index], selected_years['Divorces_per_1000'], bar_width, label='Divorces per 1000')\n",
    "\n",
    "\n",
    "plt.xlabel('Year')\n",
    "plt.ylabel('Counts per 1000')\n",
    "plt.title('Comparison of Marriages and Divorces per 1000 in 1900, 1950, and 2000')\n",
    "plt.xticks([p + bar_width / 2 for p in index], selected_years['Year'])\n",
    "\n",
    "plt.legend()\n",
    "\n",
    "plt.show()"
   ]
  },
  {
   "cell_type": "markdown",
   "id": "e8eadfea",
   "metadata": {},
   "source": [
    "<h1><font color='#004b87'>Question 8</font></h1>\n",
    "<p>Create a horizontal bar chart that compares the deadliest actors in Hollywood. Sort the actors by their kill count and label each bar with the corresponding actor's name. Don't forget to label your axes!</p>"
   ]
  },
  {
   "cell_type": "code",
   "execution_count": 62,
   "id": "ede12bb3",
   "metadata": {},
   "outputs": [
    {
     "data": {
      "image/png": "[encoded data removed]",
      "text/plain": [
       "<Figure size 1000x800 with 1 Axes>"
      ]
     },
     "metadata": {},
     "output_type": "display_data"
    }
   ],
   "source": [
    "file_path = './actor_kill_counts.csv'\n",
    "data = pd.read_csv(file_path)\n",
    "\n",
    "data_sorted = data.sort_values('Count', ascending=True)\n",
    "\n",
    "plt.figure(figsize=(10, 8))\n",
    "plt.barh(data_sorted['Actor'], data_sorted['Count'], color='teal')\n",
    "\n",
    "plt.xlabel('Count')\n",
    "plt.ylabel('Actor')\n",
    "plt.title('Deadliest Actors in Hollywood')\n",
    "\n",
    "plt.show()"
   ]
  },
  {
   "cell_type": "markdown",
   "id": "31eb056e",
   "metadata": {},
   "source": [
    "<h1><font color='#004b87'>Question 9</font></h1>\n",
    "<p>Create a pie chart showing the fraction of all Roman Emperors that were assassinated. Make sure that the pie chart is an even circle, labels the categories, and shows the percentage breakdown of the categories.</p>"
   ]
  },
  {
   "cell_type": "code",
   "execution_count": 56,
   "id": "e13c1414",
   "metadata": {},
   "outputs": [
    {
     "name": "stdout",
     "output_type": "stream",
     "text": [
      "    Emperor  Length_of_Reign         Cause_of_Death\n",
      "0  Augustus            40.58  Possibly assassinated\n",
      "1  Tiberius            22.50  Possibly assassinated\n",
      "2  Caligula             4.83           Assassinated\n",
      "3  Claudius            13.75  Possibly assassinated\n",
      "4      Nero            13.67                Suicide\n"
     ]
    }
   ],
   "source": [
    "file_path = './roman-emperor-reigns.csv'\n",
    "emperors = pd.read_csv(file_path)\n",
    "\n",
    "print(emperors.head())"
   ]
  },
  {
   "cell_type": "code",
   "execution_count": 57,
   "id": "eedd59f3",
   "metadata": {},
   "outputs": [
    {
     "name": "stdout",
     "output_type": "stream",
     "text": [
      "['Possibly assassinated' 'Assassinated' 'Suicide' 'Natural causes'\n",
      " 'Illness' 'Executed' 'Killed in battle' 'Died in captivity']\n"
     ]
    }
   ],
   "source": [
    "print(emperors['Cause_of_Death'].unique())"
   ]
  },
  {
   "cell_type": "code",
   "execution_count": 58,
   "id": "a7a2bd0b",
   "metadata": {},
   "outputs": [
    {
     "data": {
      "image/png": "[encoded data removed]",
      "text/plain": [
       "<Figure size 1200x1200 with 1 Axes>"
      ]
     },
     "metadata": {},
     "output_type": "display_data"
    }
   ],
   "source": [
    "assassination_counts = emperors['Cause_of_Death'].value_counts()\n",
    "\n",
    "plt.figure(figsize=(12, 12))\n",
    "plt.pie(assassination_counts, labels=assassination_counts.index, autopct='%1.1f%%', startangle=90)\n",
    "plt.axis('equal')\n",
    "\n",
    "plt.title('Fraction of Roman Emperors Assassinated', pad=20)\n",
    "\n",
    "plt.show()"
   ]
  },
  {
   "cell_type": "markdown",
   "id": "6c8b2fc0",
   "metadata": {},
   "source": [
    "<h1><font color='#004b87'>Question 10</font></h1>\n",
    "<p>Create a scatter plot showing the relationship between the total revenue earned by arcades and the number of Computer Science PhDs awarded in the U.S. between 2000 and 2009. Don't forget to label your axes! Color each dot according to its year.</p>"
   ]
  },
  {
   "cell_type": "code",
   "execution_count": 59,
   "id": "8e4137c1",
   "metadata": {},
   "outputs": [
    {
     "name": "stdout",
     "output_type": "stream",
     "text": [
      "   Year  Total Arcade Revenue (billions)  \\\n",
      "0  2000                            1.196   \n",
      "1  2001                            1.176   \n",
      "2  2002                            1.269   \n",
      "3  2003                            1.240   \n",
      "4  2004                            1.307   \n",
      "\n",
      "   Computer Science Doctorates Awarded (US)  \n",
      "0                                       861  \n",
      "1                                       830  \n",
      "2                                       809  \n",
      "3                                       867  \n",
      "4                                       948  \n"
     ]
    },
    {
     "data": {
      "image/png": "[encoded data removed]",
      "text/plain": [
       "<Figure size 1000x600 with 2 Axes>"
      ]
     },
     "metadata": {},
     "output_type": "display_data"
    }
   ],
   "source": [
    "data = pd.read_csv('./arcade-revenue-vs-cs-doctorates.csv')\n",
    "\n",
    "print(data.head())\n",
    "\n",
    "plt.figure(figsize=(10, 6))\n",
    "scatter = plt.scatter(data['Total Arcade Revenue (billions)'],\n",
    "                      data['Computer Science Doctorates Awarded (US)'],\n",
    "                      c=data['Year'],\n",
    "                      cmap='viridis')\n",
    "\n",
    "plt.title('Arcade Revenue vs. CS Doctorates Awarded (2000 - 2009)')\n",
    "plt.xlabel('Total Arcade Revenue (billions)')\n",
    "plt.ylabel('Computer Science Doctorates Awarded (US)')\n",
    "\n",
    "cbar = plt.colorbar(scatter)\n",
    "cbar.set_label('Year')\n",
    "\n",
    "plt.show()"
   ]
  },
  {
   "cell_type": "code",
   "execution_count": null,
   "id": "93300929",
   "metadata": {},
   "outputs": [],
   "source": []
  }
 ],
 "metadata": {
  "kernelspec": {
   "display_name": "Python 3 (ipykernel)",
   "language": "python",
   "name": "python3"
  },
  "language_info": {
   "codemirror_mode": {
    "name": "ipython",
    "version": 3
   },
   "file_extension": ".py",
   "mimetype": "text/x-python",
   "name": "python",
   "nbconvert_exporter": "python",
   "pygments_lexer": "ipython3",
   "version": "3.11.5"
  }
 },
 "nbformat": 4,
 "nbformat_minor": 5
}
